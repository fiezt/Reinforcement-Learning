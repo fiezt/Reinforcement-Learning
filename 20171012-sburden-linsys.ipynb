{
 "cells": [
  {
   "cell_type": "code",
   "execution_count": 1,
   "metadata": {
    "collapsed": true
   },
   "outputs": [],
   "source": [
    "import numpy as np\n",
    "import pylab as plt\n",
    "import scipy as sp\n",
    "from scipy import linalg as la\n",
    "import scipy.stats as stats\n",
    "%matplotlib inline"
   ]
  },
  {
   "cell_type": "code",
   "execution_count": 43,
   "metadata": {
    "collapsed": true
   },
   "outputs": [],
   "source": [
    "figsize = (8,8)"
   ]
  },
  {
   "cell_type": "code",
   "execution_count": 2,
   "metadata": {
    "collapsed": true
   },
   "outputs": [],
   "source": [
    "def PSD(n,sqrt=False):\n",
    "  \"\"\"\n",
    "  compute random positive semidefinite matrix\n",
    "\n",
    "  input:\n",
    "    n - int - dimension of matrix\n",
    "    (optional)\n",
    "    sqrt - bool - whether to return S such that Q = np.dot( S.T, S)\n",
    "\n",
    "  output:\n",
    "    Q - n x n - Q = Q^T,  spec Q \\subset R^+\n",
    "  \"\"\"\n",
    "  H = np.random.randn( n, n )\n",
    "  d,u = np.linalg.eig( H + H.T )\n",
    "  S = np.dot( u, np.dot( np.diag( np.sqrt( d*np.sign( d ) ) ), u.T ) )\n",
    "  if sqrt:\n",
    "    return np.dot( S.T, S ), S\n",
    "  else:\n",
    "    return np.dot( S.T, S )\n",
    "\n",
    "def CT(n,margin=1e-1):\n",
    "  \"\"\"\n",
    "  compute random stable system matrix for continuous-time linear system\n",
    "    dx/dt = A x\n",
    "  \n",
    "  input:\n",
    "    n - int - dimension of state\n",
    "    \n",
    "  output:\n",
    "    A - n x n - spec A \\subset C_o^- (open left-half complex plane)  \n",
    "  \"\"\"\n",
    "  d,u = la.eig( np.random.randn( n, n ) )\n",
    "  d.real = -np.abs(d.real)-margin\n",
    "  A = np.dot( u, np.dot( np.diag(d), u.T ) )\n",
    "  return A.real\n",
    "\n",
    "def DT(n,margin=1e-1):\n",
    "  \"\"\"\n",
    "  compute random stable system matrix for discrete-time linear system\n",
    "    x^+ = A x\n",
    "  \n",
    "  input:\n",
    "    n - int - dimension of state\n",
    "    \n",
    "  output:\n",
    "    A - n x n - |spec A| < 1\n",
    "  \"\"\"\n",
    "  d,u = la.eig( np.random.randn( n, n ) )\n",
    "  d /= (np.abs(d).max()+margin)\n",
    "  A = np.dot( u, np.dot( np.diag(d), u.T ) )\n",
    "  return A.real"
   ]
  },
  {
   "cell_type": "markdown",
   "metadata": {},
   "source": [
    "Consider the linear-quadratic regulation (LQR) problem for the discrete-time linear time-invariant system\n",
    "$$x^+ = A x + B u$$\n",
    "with infinite-horizon cost\n",
    "$$J(x,u) = \\frac{1}{2}\\sum_{t=0}^\\infty x^T Q x + u^T R u \\ dt$$\n",
    "where  $Q = Q^T > 0$ and $R = R^T > 0$.  We know that the optimal policy is linear in state, \n",
    "$$u = - K x,$$\n",
    "where $K = (R + B^T Y B)^{-1} (B^T Y A)$ and $Y$ satisfies the discrete algebraic Riccati equation\n",
    "$$Y = A^T Y A - (A^T Y B)(R + B^T Y B)^{-1}(B^T Y A) + Q.$$"
   ]
  },
  {
   "cell_type": "code",
   "execution_count": 3,
   "metadata": {
    "collapsed": true
   },
   "outputs": [],
   "source": [
    "n,m = 1,1 # dimension of continuous state, input\n",
    "Q,R = PSD(n),PSD(m) # cost of state, input\n",
    "A,B = DT(n),np.random.randn(n,m) # choose A stable to make our life easy"
   ]
  },
  {
   "cell_type": "code",
   "execution_count": 4,
   "metadata": {
    "collapsed": true
   },
   "outputs": [],
   "source": [
    "Y = la.solve_discrete_are(A,B,Q,R)\n",
    "# optimal policy\n",
    "K = np.dot( la.inv(R + np.dot( B.T, np.dot(Y, B))), \n",
    "            np.dot( B.T, np.dot( Y, A ) ) )\n",
    "assert np.all(np.abs(la.eigvals(A - np.dot(B,K))) < 1),\"u = - K x stabilizes x^+ = A x + B u\"\n",
    "# suboptimal policy\n",
    "L = K + 1e-1*np.abs(K).max()*np.random.rand(m,n) # don't stray too far from optimal\n",
    "assert np.all(np.abs(la.eigvals(A - np.dot(B,L))) < 1),\"u = - L x stabilizes x^+ = A x + B u\""
   ]
  },
  {
   "cell_type": "markdown",
   "metadata": {},
   "source": [
    "if we choose a Gaussian policy \n",
    "$$u \\sim \\mathcal{N}(\\mu, V)$$\n",
    "(or, equivalently, a deterministic policy $u = \\mu$ and a Gaussian disturbance $v \\sim \\mathcal{N}(0, V)$)\n",
    "then the state distribution after one step is also Gaussian:\n",
    "$$x^+ \\sim \\mathcal{N}(Ax + B\\mu, B V B^T).$$"
   ]
  },
  {
   "cell_type": "code",
   "execution_count": 5,
   "metadata": {
    "collapsed": true
   },
   "outputs": [],
   "source": [
    "V = PSD(m)\n",
    "v = stats.multivariate_normal(mean=np.zeros(m),cov=V)"
   ]
  },
  {
   "cell_type": "markdown",
   "metadata": {},
   "source": [
    "Similarly, if the state distribution starts out Gaussian, \n",
    "$$x \\sim \\mathcal{N}(\\xi, \\Sigma),$$\n",
    "and we apply zero input but add a state disturbance with zero mean and covariance $W$, then (so long as the disturbance is uncorrelated with the state) the state distribution after one step is \n",
    "$$x^+ \\sim \\mathcal{N}(A\\xi, A\\Sigma A^T + W),$$\n",
    "i.e. the covariance gets updated via\n",
    "$$\\Sigma^+ = A\\Sigma A^T + W.$$\n",
    "Since $A$ is stable, so long as $W$ is constant, this iteration will converge to a solution of the Lyapunov equation\n",
    "$$S = A S A^T + W.$$\n",
    "Also, since $A$ is stable, the steady-state mean is zero, thus we can determine the steady-state distribution in closed-form:\n",
    "$$\\lim_{t\\rightarrow\\infty} x(t) \\sim \\mathcal{N}(0, S).$$"
   ]
  },
  {
   "cell_type": "code",
   "execution_count": 44,
   "metadata": {
    "collapsed": false
   },
   "outputs": [],
   "source": [
    "W = PSD(n)\n",
    "w = stats.multivariate_normal(mean=np.zeros(n),cov=W)\n",
    "S = la.solve_discrete_lyapunov(A,W)\n",
    "s = stats.multivariate_normal(mean=np.zeros(n),cov=S)\n",
    "assert np.allclose( S, np.dot(A, np.dot( S, A.T )) + W )"
   ]
  },
  {
   "cell_type": "markdown",
   "metadata": {},
   "source": [
    "We'll use this fact to build a finite MDP $(X,U,P,C)$:\n",
    "\n",
    "* $X$ is a finite set of $N$ *states*\n",
    "* $U$ is a finite set of $M$ *actions*\n",
    "* $P:X\\times U\\rightarrow \\Sigma(X)$ is transition probability\n",
    "* $C:X\\times U\\times X\\rightarrow \\mathbb{R}$ is cost \n",
    "\n",
    "where $\\Sigma(S) = \\{p\\in[0,1]^S : \\sum_{s\\in S} p(s) = 1\\}$ is the set of probability distributions over the discrete set $S$."
   ]
  },
  {
   "cell_type": "code",
   "execution_count": 65,
   "metadata": {
    "collapsed": false
   },
   "outputs": [],
   "source": [
    "N,M = 100,100 # number of discrete states, actions\n",
    "X,U = np.random.randn(N,n),np.random.randn(M,m) # discrete states, actions\n",
    "#X[0],U[0] = 0,0 # always include the origin and zero input\n",
    "# TODO add meshgrid\n",
    "#X,U = np.linspace(-1,1,N)[:,np.newaxis],np.linspace(-.1,.1,M)[:,np.newaxis]\n",
    "# note that X & U can be any iterable\n",
    "# the choice above ensures each element is also a vector, i.e. a continuous state\n",
    "P = np.nan*np.zeros((N,M,N))\n",
    "C = np.nan*np.zeros((N,M,N))\n",
    "# loop over initial discrete state\n",
    "for x_i,x in enumerate(X):\n",
    "  # loop over discrete actions\n",
    "  for u_i,u in enumerate(U):\n",
    "    # evaluate Gaussian PDF with mean A x + B u, covariance V\n",
    "    P[x_i,u_i] = w.pdf(X - ( np.dot( x, A.T ) + np.dot( u, B.T ) ))\n",
    "    # generally need to loop over next discrete state\n",
    "    #for _x_i,_x in enumerate(X):\n",
    "    #  C[x_i,u_i,_x_i] = .5 * ( np.dot( np.dot(x, Q), x)\n",
    "    #                          +np.dot( np.dot(u, R), u) )\n",
    "    # but in this case cost doesn't depend on next state, so we can broadcast a scalar\n",
    "    C[x_i,u_i] = .5 * ( np.dot( np.dot(x, Q), x)\n",
    "                     + np.dot( np.dot(u, R), u) )\n",
    "P = P / P.sum(axis=2)[...,np.newaxis] # renormalize probabilities\n",
    "assert not np.any(np.isnan(P)),\"all probabilities defined\"\n",
    "assert not np.any(np.isnan(C)),\"all costs defined\""
   ]
  },
  {
   "cell_type": "markdown",
   "metadata": {},
   "source": [
    "How do we know the MDP is correct?  We could check that the steady-state distributions match.  Let's apply zero input and construct the stochastic matrix $\\Gamma : X \\rightarrow \\Sigma(X)$ by\n",
    "$$\\forall x,x^+\\in X : \\Gamma(x)(x^+) = \\sum_{u\\in U} \\pi(x)(u) P(x,u)(x^+)$$\n",
    "and treating $p$ as a row vector, we can iterate $p^+ = p \\Gamma$ until convergence.\n",
    "\n",
    "However, knowing that $\\Gamma$ is a right-stochastic matrix (rows sum to 1) and assuming the MDP is *irreducible*, the unique steady-state distribution is the left eigenvector associated with the unity eigenvalue."
   ]
  },
  {
   "cell_type": "code",
   "execution_count": 66,
   "metadata": {
    "collapsed": false
   },
   "outputs": [],
   "source": [
    "pi = np.zeros((N,M)); pi[:,0] = 1. # U[0] == 0\n",
    "\n",
    "G = np.zeros((N,N))\n",
    "for x_i,x in enumerate(X):\n",
    "    for _x_i,_x in enumerate(X):\n",
    "        G[x_i,_x_i] = np.sum([pi[x_i,u_i] * P[x_i,u_i,_x_i] for u_i,u in enumerate(U)])\n",
    "assert np.allclose(np.sum(G,axis=1),1.)\n",
    "\n",
    "e,El,Er = la.eig(G,left=True)\n",
    "assert np.allclose(np.dot(El.T,G), (e*El).T), \"rows of El.T are left eigenvectors of G\"\n",
    "p = El.T[np.argmax(np.abs(e))]; p /= p.sum() # p must be normalized to become a probability distribution\n",
    "assert np.allclose(np.dot(p,G), p), \"p is a stationary distribution\""
   ]
  },
  {
   "cell_type": "markdown",
   "metadata": {},
   "source": [
    "# Q1:  Why don't the steady-state distributions match?"
   ]
  },
  {
   "cell_type": "code",
   "execution_count": 67,
   "metadata": {
    "collapsed": false
   },
   "outputs": [
    {
     "data": {
      "text/plain": [
       "<matplotlib.text.Text at 0x10f10c750>"
      ]
     },
     "execution_count": 67,
     "metadata": {},
     "output_type": "execute_result"
    },
    {
     "data": {
      "image/png": "[encoded data removed]",
      "text/plain": [
       "<matplotlib.figure.Figure at 0x10f0ee190>"
      ]
     },
     "metadata": {},
     "output_type": "display_data"
    }
   ],
   "source": [
    "fig = plt.figure(figsize=figsize)\n",
    "\n",
    "ax = plt.subplot(1,1,1); ax.grid('on')\n",
    "ax.plot(X.flatten(),s.pdf(X)/s.pdf(X).sum(),'.')\n",
    "ax.plot(X.flatten(),p,'.')\n",
    "ax.set_ylabel('steady-state probability')\n",
    "ax.set_xlabel('state $x$')"
   ]
  },
  {
   "cell_type": "markdown",
   "metadata": {},
   "source": [
    "Let us now consider the problem of minimizing the infinite-horizon discounted cost\n",
    "$$J = \\sum_{t=0}^\\infty \\gamma^t c_t,$$\n",
    "where $\\gamma\\in(0,1]$ is a *discount factor* and $c_t = C(x_t,u_t)$ is the cost at time $t$.\n",
    "\n",
    "In the un-discounted case, $g = 1$."
   ]
  },
  {
   "cell_type": "code",
   "execution_count": 68,
   "metadata": {
    "collapsed": true
   },
   "outputs": [],
   "source": [
    "g = 1"
   ]
  },
  {
   "cell_type": "code",
   "execution_count": 69,
   "metadata": {
    "collapsed": true
   },
   "outputs": [],
   "source": [
    "g = np.random.rand()"
   ]
  },
  {
   "cell_type": "code",
   "execution_count": 70,
   "metadata": {
    "collapsed": true
   },
   "outputs": [],
   "source": [
    "g = 0.999"
   ]
  },
  {
   "cell_type": "code",
   "execution_count": 71,
   "metadata": {
    "collapsed": false
   },
   "outputs": [
    {
     "name": "stdout",
     "output_type": "stream",
     "text": [
      "done!  4 iterations\n"
     ]
    }
   ],
   "source": [
    "# policy\n",
    "pi = np.abs(np.random.randn(N,M)); pi = pi / np.sum(pi,axis=1)[:,np.newaxis]\n",
    "assert np.allclose(np.sum(pi,axis=1),1.)\n",
    "\n",
    "def policy_evaluation(X,U,P,C,g,pi):\n",
    "    b = np.asarray([ np.sum([[pi[xi,mu] * P[xi,mu,x] * C[xi,mu,x] \n",
    "                          for x in X] for mu in U]) for xi in X])\n",
    "    I = np.identity(N)\n",
    "    L = I - np.asarray([ np.asarray([ np.sum([g * pi[xi,mu] * P[xi,mu,x] \n",
    "                                              for mu in U]) for x in X]) for xi in X])\n",
    "    # V satisfies Bellman equation\n",
    "    V = np.dot(b,la.inv(L).T)\n",
    "    assert np.allclose(V, [np.sum([[pi[xi,mu] * P[xi,mu,x] * (C[xi,mu,x] + g*V[x]) \n",
    "                                for x in X] for mu in U]) for xi in X])\n",
    "    return V\n",
    "\n",
    "def policy_improvement(X,U,P,C,g,V):\n",
    "    N = len(X); M = len(U)\n",
    "    pi = np.zeros((N,M))\n",
    "    for xi in X:\n",
    "        u = np.argmin([np.sum([P[xi,mu,x]*(C[xi,mu,x] + g*V[x]) for x in X]) for mu in U])\n",
    "        #assert len(u) == 1\n",
    "        pi[xi,u] = 1.\n",
    "    return pi\n",
    "\n",
    "def policy_iteration(X,U,P,C,g,pi0):\n",
    "    pi_ = [pi0]\n",
    "    V_  = []\n",
    "    while len(V_) < 2 or not(np.allclose(V_[-1],V_[-2])):\n",
    "        pi = pi_[-1]\n",
    "        V  = policy_evaluation(X,U,P,C,g,pi)\n",
    "        _pi = policy_improvement(X,U,P,C,g,V)\n",
    "        pi_.append(_pi)\n",
    "        V_.append(V)\n",
    "    return pi_,V_\n",
    "\n",
    "pi_PI,V_PI = policy_iteration(range(N),range(M),P,C,g,pi)\n",
    "print 'done!  %d iterations' % len(V_PI)"
   ]
  },
  {
   "cell_type": "markdown",
   "metadata": {},
   "source": [
    "# Q2:  why is there baseline drift in the value?\n",
    "\n",
    "Unless $x = 0$, $u = 0$ are included as discrete states, policy iteration over-estimates the value by an additive constant."
   ]
  },
  {
   "cell_type": "code",
   "execution_count": 74,
   "metadata": {
    "collapsed": false
   },
   "outputs": [
    {
     "data": {
      "text/plain": [
       "1.7670514780550484"
      ]
     },
     "execution_count": 74,
     "metadata": {},
     "output_type": "execute_result"
    }
   ],
   "source": [
    ".5*np.dot( np.dot(X[0],Y), X[0] )"
   ]
  },
  {
   "cell_type": "markdown",
   "metadata": {},
   "source": [
    "# Q3:  Why don't the value and policies match?"
   ]
  },
  {
   "cell_type": "code",
   "execution_count": 73,
   "metadata": {
    "collapsed": false
   },
   "outputs": [
    {
     "data": {
      "text/plain": [
       "<matplotlib.text.Text at 0x10eeb1690>"
      ]
     },
     "execution_count": 73,
     "metadata": {},
     "output_type": "execute_result"
    },
    {
     "data": {
      "image/png": "[encoded data removed]",
      "text/plain": [
       "<matplotlib.figure.Figure at 0x10ee17290>"
      ]
     },
     "metadata": {},
     "output_type": "display_data"
    }
   ],
   "source": [
    "fig = plt.figure(figsize=figsize)\n",
    "\n",
    "ax = plt.subplot(2,1,1); ax.grid('on')\n",
    "ax.plot(X.flatten(),V_PI[-1]-V_PI[-1][0],'.')\n",
    "ax.plot(X.flatten(),.5*np.diag(np.dot( np.dot(X,Y), X.T ))\n",
    "                   -.5*np.dot( np.dot(X[0],Y), X[0] ),'.')\n",
    "ax.set_ylabel('value $V(x)$')\n",
    "ax.set_title('discount $g = %0.4f$' % g)\n",
    "\n",
    "ax = plt.subplot(2,1,2); ax.grid('on')\n",
    "ax.plot(X.flatten(),U[np.argmax(pi_PI[-1],axis=1)],'.')\n",
    "ax.plot(X.flatten(),-np.dot(K,X.T).flatten())\n",
    "ax.set_ylabel('policy $u(x)$')\n",
    "ax.set_xlabel('state $x$')"
   ]
  }
 ],
 "metadata": {
  "anaconda-cloud": {},
  "kernelspec": {
   "display_name": "Python 2",
   "language": "python",
   "name": "python2"
  },
  "language_info": {
   "codemirror_mode": {
    "name": "ipython",
    "version": 2
   },
   "file_extension": ".py",
   "mimetype": "text/x-python",
   "name": "python",
   "nbconvert_exporter": "python",
   "pygments_lexer": "ipython2",
   "version": "2.7.10"
  }
 },
 "nbformat": 4,
 "nbformat_minor": 1
}
